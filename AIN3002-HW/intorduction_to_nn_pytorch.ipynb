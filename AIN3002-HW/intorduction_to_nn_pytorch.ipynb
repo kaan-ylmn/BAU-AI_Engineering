{
 "cells": [
  {
   "cell_type": "code",
   "execution_count": 1,
   "id": "75e4ae52-2344-4078-9ecb-fa777ed634f8",
   "metadata": {},
   "outputs": [],
   "source": [
    "import pandas as pd\n",
    "import numpy as np \n",
    "import matplotlib.pyplot as plt\n",
    "from sklearn.preprocessing import StandardScaler\n",
    "from sklearn.model_selection import train_test_split\n",
    "import torch\n",
    "import torch.nn as nn\n",
    "import torch.nn.functional as F\n",
    "import torch.optim as optim\n",
    "from torchvision import transforms\n",
    "from sklearn.metrics import confusion_matrix, classification_report, roc_curve, auc"
   ]
  },
  {
   "cell_type": "code",
   "execution_count": 2,
   "id": "3c2909ae-7342-4ee2-bf9c-705e560ac255",
   "metadata": {},
   "outputs": [],
   "source": [
    "dataset = pd.read_csv('league_of_legends_data_large.csv')"
   ]
  },
  {
   "cell_type": "code",
   "execution_count": 3,
   "id": "60f45516-4dee-4289-9392-c2746dc3d156",
   "metadata": {},
   "outputs": [
    {
     "data": {
      "text/html": [
       "<div>\n",
       "<style scoped>\n",
       "    .dataframe tbody tr th:only-of-type {\n",
       "        vertical-align: middle;\n",
       "    }\n",
       "\n",
       "    .dataframe tbody tr th {\n",
       "        vertical-align: top;\n",
       "    }\n",
       "\n",
       "    .dataframe thead th {\n",
       "        text-align: right;\n",
       "    }\n",
       "</style>\n",
       "<table border=\"1\" class=\"dataframe\">\n",
       "  <thead>\n",
       "    <tr style=\"text-align: right;\">\n",
       "      <th></th>\n",
       "      <th>win</th>\n",
       "      <th>kills</th>\n",
       "      <th>deaths</th>\n",
       "      <th>assists</th>\n",
       "      <th>gold_earned</th>\n",
       "      <th>cs</th>\n",
       "      <th>wards_placed</th>\n",
       "      <th>wards_killed</th>\n",
       "      <th>damage_dealt</th>\n",
       "    </tr>\n",
       "  </thead>\n",
       "  <tbody>\n",
       "    <tr>\n",
       "      <th>0</th>\n",
       "      <td>0</td>\n",
       "      <td>16</td>\n",
       "      <td>6</td>\n",
       "      <td>19</td>\n",
       "      <td>17088</td>\n",
       "      <td>231</td>\n",
       "      <td>11</td>\n",
       "      <td>7</td>\n",
       "      <td>15367</td>\n",
       "    </tr>\n",
       "    <tr>\n",
       "      <th>1</th>\n",
       "      <td>1</td>\n",
       "      <td>8</td>\n",
       "      <td>8</td>\n",
       "      <td>5</td>\n",
       "      <td>14865</td>\n",
       "      <td>259</td>\n",
       "      <td>10</td>\n",
       "      <td>2</td>\n",
       "      <td>38332</td>\n",
       "    </tr>\n",
       "    <tr>\n",
       "      <th>2</th>\n",
       "      <td>0</td>\n",
       "      <td>0</td>\n",
       "      <td>17</td>\n",
       "      <td>11</td>\n",
       "      <td>15919</td>\n",
       "      <td>169</td>\n",
       "      <td>14</td>\n",
       "      <td>5</td>\n",
       "      <td>24642</td>\n",
       "    </tr>\n",
       "    <tr>\n",
       "      <th>3</th>\n",
       "      <td>0</td>\n",
       "      <td>19</td>\n",
       "      <td>11</td>\n",
       "      <td>1</td>\n",
       "      <td>11534</td>\n",
       "      <td>264</td>\n",
       "      <td>14</td>\n",
       "      <td>3</td>\n",
       "      <td>15789</td>\n",
       "    </tr>\n",
       "    <tr>\n",
       "      <th>4</th>\n",
       "      <td>0</td>\n",
       "      <td>12</td>\n",
       "      <td>7</td>\n",
       "      <td>6</td>\n",
       "      <td>18926</td>\n",
       "      <td>124</td>\n",
       "      <td>15</td>\n",
       "      <td>7</td>\n",
       "      <td>40268</td>\n",
       "    </tr>\n",
       "  </tbody>\n",
       "</table>\n",
       "</div>"
      ],
      "text/plain": [
       "   win  kills  deaths  assists  gold_earned   cs  wards_placed  wards_killed  \\\n",
       "0    0     16       6       19        17088  231            11             7   \n",
       "1    1      8       8        5        14865  259            10             2   \n",
       "2    0      0      17       11        15919  169            14             5   \n",
       "3    0     19      11        1        11534  264            14             3   \n",
       "4    0     12       7        6        18926  124            15             7   \n",
       "\n",
       "   damage_dealt  \n",
       "0         15367  \n",
       "1         38332  \n",
       "2         24642  \n",
       "3         15789  \n",
       "4         40268  "
      ]
     },
     "execution_count": 3,
     "metadata": {},
     "output_type": "execute_result"
    }
   ],
   "source": [
    "dataset.head()"
   ]
  },
  {
   "cell_type": "code",
   "execution_count": 4,
   "id": "69413b41-ea7b-486d-94b3-1ef19798c851",
   "metadata": {},
   "outputs": [],
   "source": [
    "x = dataset.iloc[:,1:].values\n",
    "y = dataset.iloc[:,0].values"
   ]
  },
  {
   "cell_type": "code",
   "execution_count": 5,
   "id": "286c4ab0-9f7e-4f99-bf05-4c88c8a91898",
   "metadata": {},
   "outputs": [],
   "source": [
    "x_train, x_test, y_train, y_test = train_test_split(x, y, test_size = 0.2)"
   ]
  },
  {
   "cell_type": "code",
   "execution_count": 6,
   "id": "40c02b55-2cd1-4761-8c8d-86542418fcac",
   "metadata": {},
   "outputs": [],
   "source": [
    "scaler = StandardScaler()\n",
    "x_train = scaler.fit_transform(x_train)\n",
    "x_test = scaler.transform(x_test)"
   ]
  },
  {
   "cell_type": "code",
   "execution_count": 7,
   "id": "c31edd8f-0d1a-4f95-8fd7-3024573b9e41",
   "metadata": {},
   "outputs": [],
   "source": [
    "x_train = torch.tensor(x_train, dtype=torch.float32)\n",
    "x_test = torch.tensor(x_test, dtype=torch.float32)\n",
    "y_train = torch.tensor(y_train, dtype=torch.float32).view(-1, 1)\n",
    "y_test = torch.tensor(y_test, dtype=torch.float32).view(-1, 1)"
   ]
  },
  {
   "cell_type": "code",
   "execution_count": 8,
   "id": "a4bd0a8d-0302-4383-a9c6-0c836f6f1f4c",
   "metadata": {},
   "outputs": [],
   "source": [
    "class LRModel(nn.Module):\n",
    "    def __init__(self,input_dim):\n",
    "        super(LRModel,self).__init__()\n",
    "        self.linear = nn.Linear(input_dim,1)\n",
    "\n",
    "    def forward(self,x):\n",
    "        x = F.sigmoid(self.linear(x))\n",
    "        return x"
   ]
  },
  {
   "cell_type": "code",
   "execution_count": 9,
   "id": "2519c817-9c0a-4cef-b78c-40a98ab883b1",
   "metadata": {},
   "outputs": [],
   "source": [
    "model = LRModel(8)\n",
    "criterion = nn.BCELoss()\n",
    "optimizer = optim.SGD(model.parameters(),lr = 0.01)"
   ]
  },
  {
   "cell_type": "code",
   "execution_count": 19,
   "id": "2abcc1bf-5af0-4723-bdbc-6bb5ea1d648c",
   "metadata": {},
   "outputs": [],
   "source": [
    "def train_model(model, criterion, optimizer, epochs = 100):\n",
    "\n",
    "    for epoch in range(1,epochs+1):\n",
    "        optimizer.zero_grad()\n",
    "        \n",
    "        outputs = model(x_train)\n",
    "        loss = criterion(outputs, y_train)\n",
    "        loss.backward()\n",
    "        optimizer.step()\n",
    "    \n",
    "        outputs = (outputs > 0.5).float()\n",
    "        accuracy = 100 * ((outputs == y_train).sum().item() / y_train.shape[0])"
   ]
  },
  {
   "cell_type": "code",
   "execution_count": 21,
   "id": "6e2ef97a-db1a-45a1-8bff-531a723e85d5",
   "metadata": {},
   "outputs": [],
   "source": [
    "def evaluate_model(model,x,y):\n",
    "    \n",
    "    with torch.no_grad():\n",
    "        outputs = model(x)\n",
    "        \n",
    "        outputs = (outputs > 0.5).float()\n",
    "        accuracy = 100 * ((outputs == y).sum().item() / y.shape[0])\n",
    "        \n",
    "        return accuracy"
   ]
  },
  {
   "cell_type": "code",
   "execution_count": 23,
   "id": "cbb9d836-95be-471a-bea3-5dd4c02421ae",
   "metadata": {},
   "outputs": [],
   "source": [
    "train_model(model,criterion,optimizer)"
   ]
  },
  {
   "cell_type": "code",
   "execution_count": 25,
   "id": "5a98d10c-6190-48e6-8b03-7d7ab27c9095",
   "metadata": {},
   "outputs": [],
   "source": [
    "train_accu = evaluate_model(model,x_train,y_train)\n",
    "test_accu = evaluate_model(model,x_test,y_test)"
   ]
  },
  {
   "cell_type": "code",
   "execution_count": 27,
   "id": "be125611-e698-44d3-a59c-415db1d03bae",
   "metadata": {},
   "outputs": [
    {
     "name": "stdout",
     "output_type": "stream",
     "text": [
      "Train Accuracy: 45.38%, Test Accuracy: 46.50%\n"
     ]
    }
   ],
   "source": [
    "print(f'Train Accuracy: {train_accu:.2f}%, Test Accuracy: {test_accu:.2f}%')"
   ]
  },
  {
   "cell_type": "code",
   "execution_count": 29,
   "id": "2d33eac8-3cc4-41d6-84ef-c57b29b4233c",
   "metadata": {},
   "outputs": [],
   "source": [
    "optimizer = optim.SGD(model.parameters(), lr = 0.01, weight_decay = 0.01)\n",
    "train_model(model,criterion,optimizer)\n",
    "train_accu = evaluate_model(model,x_train,y_train)\n",
    "test_accu = evaluate_model(model,x_test,y_test)"
   ]
  },
  {
   "cell_type": "code",
   "execution_count": 31,
   "id": "ea103b88-c1fe-49f9-b2ad-809ab4de56ce",
   "metadata": {},
   "outputs": [
    {
     "name": "stdout",
     "output_type": "stream",
     "text": [
      "Train Accuracy: 45.38%, Test Accuracy: 48.00%\n"
     ]
    }
   ],
   "source": [
    "print(f'Train Accuracy: {train_accu:.2f}%, Test Accuracy: {test_accu:.2f}%')"
   ]
  },
  {
   "cell_type": "code",
   "execution_count": 33,
   "id": "937f898a-f3fa-4cec-b481-25a089aa7dfc",
   "metadata": {},
   "outputs": [
    {
     "name": "stdout",
     "output_type": "stream",
     "text": [
      "[[53 34]\n",
      " [70 43]]\n"
     ]
    }
   ],
   "source": [
    "y_pred = (model(x_test) > 0.5).float()\n",
    "cm = confusion_matrix(y_test,y_pred)\n",
    "print(cm)"
   ]
  },
  {
   "cell_type": "code",
   "execution_count": 35,
   "id": "c02da287-cb8b-406b-8021-dc59c62ec4a7",
   "metadata": {},
   "outputs": [
    {
     "data": {
      "image/png": "[encoded data removed]",
      "text/plain": [
       "<Figure size 640x480 with 2 Axes>"
      ]
     },
     "metadata": {},
     "output_type": "display_data"
    }
   ],
   "source": [
    "from sklearn.metrics import ConfusionMatrixDisplay\n",
    "\n",
    "disp = ConfusionMatrixDisplay(confusion_matrix=cm)\n",
    "disp.plot(cmap='Reds')\n",
    "plt.show()"
   ]
  },
  {
   "cell_type": "code",
   "execution_count": 36,
   "id": "e0b99076-28fd-4c0e-b02d-0876cf9a8d1f",
   "metadata": {},
   "outputs": [
    {
     "name": "stdout",
     "output_type": "stream",
     "text": [
      "              precision    recall  f1-score   support\n",
      "\n",
      "         0.0       0.43      0.61      0.50        87\n",
      "         1.0       0.56      0.38      0.45       113\n",
      "\n",
      "    accuracy                           0.48       200\n",
      "   macro avg       0.49      0.49      0.48       200\n",
      "weighted avg       0.50      0.48      0.48       200\n",
      "\n"
     ]
    }
   ],
   "source": [
    "cr = classification_report(y_test, y_pred)\n",
    "print(cr)"
   ]
  },
  {
   "cell_type": "code",
   "execution_count": 39,
   "id": "176813ff-d171-49ea-bccd-b899e3e4752a",
   "metadata": {},
   "outputs": [
    {
     "data": {
      "image/png": "[encoded data removed]",
      "text/plain": [
       "<Figure size 640x480 with 1 Axes>"
      ]
     },
     "metadata": {},
     "output_type": "display_data"
    }
   ],
   "source": [
    "fpr, tpr, _ = roc_curve(y_test,model(x_test).detach().numpy())\n",
    "plt.plot(fpr,tpr, label = f'AUC = {auc(fpr,tpr):.2f}',color = 'red')\n",
    "plt.xlabel('False Positive Rate')\n",
    "plt.ylabel('True Positive Rate')\n",
    "plt.title('ROC')\n",
    "plt.legend()\n",
    "plt.show()"
   ]
  },
  {
   "cell_type": "code",
   "execution_count": 41,
   "id": "46b475ea-3a1b-4629-80e5-e538576514b1",
   "metadata": {},
   "outputs": [
    {
     "data": {
      "text/plain": [
       "LRModel(\n",
       "  (linear): Linear(in_features=8, out_features=1, bias=True)\n",
       ")"
      ]
     },
     "execution_count": 41,
     "metadata": {},
     "output_type": "execute_result"
    }
   ],
   "source": [
    "torch.save(model.state_dict(),'model.pth')\n",
    "loaded_model = LRModel(x_train.shape[1])\n",
    "loaded_model.load_state_dict(torch.load('model.pth'))\n",
    "loaded_model.eval()"
   ]
  },
  {
   "cell_type": "code",
   "execution_count": 43,
   "id": "33ea8b51-a005-44c2-99b1-a0d1f0483db9",
   "metadata": {},
   "outputs": [
    {
     "name": "stdout",
     "output_type": "stream",
     "text": [
      "Best Learning Rate: 0.1, Accuracy: 47.5000\n"
     ]
    }
   ],
   "source": [
    "lr_list = [0.1, 0.01, 0.001]\n",
    "best_accu = 0.0\n",
    "best_lr = 0.0\n",
    "\n",
    "for lr in lr_list:\n",
    "    model = LRModel(x_train.shape[1])  \n",
    "    optimizer = optim.SGD(model.parameters(), lr=lr)\n",
    "    train_model(model, criterion, optimizer)  \n",
    "    accu = evaluate_model(model, x_test, y_test)  \n",
    "    if accu > best_accu:\n",
    "        best_lr = lr\n",
    "        best_accu = accu\n",
    "\n",
    "print(f'Best Learning Rate: {best_lr}, Accuracy: {best_accu:.4f}')"
   ]
  },
  {
   "cell_type": "code",
   "execution_count": 45,
   "id": "4635f19d-3de7-4777-aae8-62b58ee67094",
   "metadata": {},
   "outputs": [
    {
     "data": {
      "image/png": "[encoded data removed]",
      "text/plain": [
       "<Figure size 640x480 with 1 Axes>"
      ]
     },
     "metadata": {},
     "output_type": "display_data"
    }
   ],
   "source": [
    "importance = model.linear.weight.detach().numpy().flatten()\n",
    "x = dataset.iloc[:,1:]\n",
    "feature_df = pd.DataFrame({'Feature': x.columns, 'Importance': importance})\n",
    "sorted_df = feature_df.sort_values(by = 'Importance', ascending = False)\n",
    "sorted_df.plot(kind = 'bar', x = 'Feature', y = 'Importance')\n",
    "plt.show()"
   ]
  }
 ],
 "metadata": {
  "kernelspec": {
   "display_name": "Python [conda env:base] *",
   "language": "python",
   "name": "conda-base-py"
  },
  "language_info": {
   "codemirror_mode": {
    "name": "ipython",
    "version": 3
   },
   "file_extension": ".py",
   "mimetype": "text/x-python",
   "name": "python",
   "nbconvert_exporter": "python",
   "pygments_lexer": "ipython3",
   "version": "3.11.5"
  }
 },
 "nbformat": 4,
 "nbformat_minor": 5
}
